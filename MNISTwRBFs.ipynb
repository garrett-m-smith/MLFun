{
 "cells": [
  {
   "cell_type": "markdown",
   "metadata": {},
   "source": [
    "# MNIST classification with a continous time-RBF NN\n",
    "\n",
    "In this little test, I'll use the classic MNIST hand-written numbers data set to try out a classification scheme based on the continuous-time dynamical system I'm working on for my dissertation (see, e.g., Smith & Tabor, submitted). The model is based on those presented in Han et al. (1989), Ciocoiu (1996, 2009), and Muezzinoglu & Zurada (2006). The idea is to create an RBF-based energy landscape with energy minima (or harmony maxima, Smolensky, 1986) for each pattern you want to store. You then just initialize the state of the system with a test pattern, and it settles to the nearest exemplar.\n",
    "\n",
    "Here, I'll take the very simple approach of making the centers of the RBFs be a the averages of each target number in the training set. This seems to be a simplification of what Ciocoiu (2009) did. Let $\\mathbf{x}$ be the state of the system and $\\mathbf{c}_i$ be the location of the $i$th stored pattern. Both are in $\\mathbb{R}^{64}$. The harmony landscape is defined as\n",
    "$$\n",
    "H(\\mathbf{x}) = \\sum_{i = 0}^9 \\phi_i(\\mathbf{x})\n",
    "$$\n",
    "with\n",
    "$$\n",
    "\\phi_i(\\mathbf{x}) = \\exp\\left( -\\gamma^{-1} (\\mathbf{x} - \\mathbf{c}_i)^\\intercal (\\mathbf{x} - \\mathbf{c}_i)\\right)\n",
    "$$\n",
    "where $\\gamma$ sets the widths of the RBFs. The classification dynamics are given by the coupled ordinary differential equations\n",
    "$$\n",
    "\\dot{\\mathbf{x}} = -2\\gamma^{-1}\\sum_{i = 0}^9 \\phi_i(\\mathbf{x}) (\\mathbf{x} - \\mathbf{c}_i)\n",
    "$$\n",
    "\n",
    "Now, I'll set this up using NumPy."
   ]
  },
  {
   "cell_type": "code",
   "execution_count": 112,
   "metadata": {},
   "outputs": [
    {
     "data": {
      "image/png": "[encoded data removed]",
      "text/plain": [
       "<Figure size 432x288 with 1 Axes>"
      ]
     },
     "metadata": {},
     "output_type": "display_data"
    }
   ],
   "source": [
    "%matplotlib inline\n",
    "import numpy as np\n",
    "import matplotlib\n",
    "import matplotlib.pyplot as plt\n",
    "\n",
    "# Defining phi\n",
    "def phi(x, c, gamma):\n",
    "    # This is equivalent to the squared Euclidean distance\n",
    "    sqdist = np.dot(x - c, x - c)\n",
    "    return np.exp(-sqdist / gamma)\n",
    "\n",
    "\n",
    "def step_dyn(x, centers, gamma):\n",
    "    dx = np.zeros(x.shape)\n",
    "    for c in range(centers.shape[0]):\n",
    "        dx += phi(x, centers[c,], gamma) * (x - centers[c,])\n",
    "    return (-2 / gamma) * dx\n",
    "\n",
    "\n",
    "def settle_once(xinit, centers, gamma):\n",
    "    # Quick test\n",
    "    tau = 0.1  # time step for the discretized Euler-forward dynamics\n",
    "    tsteps = 50\n",
    "    xhist = np.zeros((tsteps, len(xinit)))\n",
    "    xhist[0,] = xinit\n",
    "    for t in range(tsteps-1):\n",
    "        xhist[t+1,] = xhist[t,] + tau*step_dyn(xhist[t,], centers, gamma)\n",
    "    return xhist\n",
    "\n",
    "\n",
    "centers = np.array([[1, 0], [0, 1]])\n",
    "gamma = 0.25  # This is a free parameter that will need to be fit\n",
    "#x = np.zeros((tsteps, 2))\n",
    "xinit = np.array([0.1, 0.])  # Initial condition\n",
    "\n",
    "xhist = settle_once(xinit, centers, gamma)\n",
    "\n",
    "plt.plot(xhist[:, 0], xhist[:, 1])\n",
    "plt.ylim(0, 1)\n",
    "plt.xlim(0, 1)\n",
    "plt.title('Woo! It works!')\n",
    "plt.show()"
   ]
  },
  {
   "cell_type": "markdown",
   "metadata": {},
   "source": [
    "Now that the basic classifier is working, we can try it out for real. Let's load the data and see how it's organized."
   ]
  },
  {
   "cell_type": "code",
   "execution_count": 113,
   "metadata": {},
   "outputs": [
    {
     "data": {
      "text/plain": [
       "{'COL_NAMES': ['label', 'data'],\n",
       " 'DESCR': 'mldata.org dataset: mnist-original',\n",
       " 'data': array([[0, 0, 0, ..., 0, 0, 0],\n",
       "        [0, 0, 0, ..., 0, 0, 0],\n",
       "        [0, 0, 0, ..., 0, 0, 0],\n",
       "        ...,\n",
       "        [0, 0, 0, ..., 0, 0, 0],\n",
       "        [0, 0, 0, ..., 0, 0, 0],\n",
       "        [0, 0, 0, ..., 0, 0, 0]], dtype=uint8),\n",
       " 'target': array([0., 0., 0., ..., 9., 9., 9.])}"
      ]
     },
     "execution_count": 113,
     "metadata": {},
     "output_type": "execute_result"
    }
   ],
   "source": [
    "from sklearn import datasets\n",
    "\n",
    "mnist = datasets.fetch_mldata('MNIST original')  # This took many tries to get to work...\n",
    "mnist"
   ]
  },
  {
   "cell_type": "markdown",
   "metadata": {},
   "source": [
    "Cool. Now, I'll create the training and test data sets. There are 70,000 exemplars, so I'll take the first 60,000 for training."
   ]
  },
  {
   "cell_type": "code",
   "execution_count": 114,
   "metadata": {},
   "outputs": [
    {
     "name": "stdout",
     "output_type": "stream",
     "text": [
      "(60000, 784)\n"
     ]
    }
   ],
   "source": [
    "X = mnist['data']\n",
    "y = mnist['target']\n",
    "#print(y[:20])  # looks like they're sorted\n",
    "ntrain = 60000\n",
    "ntest = 10000\n",
    "Xtrain, Xtest, ytrain, ytest = X[:ntrain], X[ntrain:], y[:ntrain], y[ntrain:]\n",
    "print(Xtrain.shape)\n",
    "ndim = Xtrain.shape[1]"
   ]
  },
  {
   "cell_type": "markdown",
   "metadata": {},
   "source": [
    "Now, I'll create the centers of the RBFs. There's probably a better way of doing this, but I'll start here because it's simple."
   ]
  },
  {
   "cell_type": "code",
   "execution_count": 115,
   "metadata": {},
   "outputs": [
    {
     "name": "stdout",
     "output_type": "stream",
     "text": [
      "(10, 784)\n"
     ]
    }
   ],
   "source": [
    "centers = np.zeros((10, ndim))\n",
    "for i in range(10):\n",
    "    centers[i,] = np.mean(Xtrain[ytrain == i,:], axis=0)\n",
    "print(centers.shape)"
   ]
  },
  {
   "cell_type": "markdown",
   "metadata": {},
   "source": [
    "Now, just to see what these averages look like:"
   ]
  },
  {
   "cell_type": "code",
   "execution_count": 116,
   "metadata": {},
   "outputs": [
    {
     "data": {
      "image/png": "[encoded data removed]",
      "text/plain": [
       "<Figure size 432x288 with 1 Axes>"
      ]
     },
     "metadata": {},
     "output_type": "display_data"
    },
    {
     "data": {
      "image/png": "[encoded data removed]",
      "text/plain": [
       "<Figure size 432x288 with 1 Axes>"
      ]
     },
     "metadata": {},
     "output_type": "display_data"
    },
    {
     "data": {
      "image/png": "[encoded data removed]",
      "text/plain": [
       "<Figure size 432x288 with 1 Axes>"
      ]
     },
     "metadata": {},
     "output_type": "display_data"
    },
    {
     "data": {
      "image/png": "[encoded data removed]",
      "text/plain": [
       "<Figure size 432x288 with 1 Axes>"
      ]
     },
     "metadata": {},
     "output_type": "display_data"
    },
    {
     "data": {
      "image/png": "[encoded data removed]",
      "text/plain": [
       "<Figure size 432x288 with 1 Axes>"
      ]
     },
     "metadata": {},
     "output_type": "display_data"
    },
    {
     "data": {
      "image/png": "[encoded data removed]",
      "text/plain": [
       "<Figure size 432x288 with 1 Axes>"
      ]
     },
     "metadata": {},
     "output_type": "display_data"
    },
    {
     "data": {
      "image/png": "[encoded data removed]",
      "text/plain": [
       "<Figure size 432x288 with 1 Axes>"
      ]
     },
     "metadata": {},
     "output_type": "display_data"
    },
    {
     "data": {
      "image/png": "[encoded data removed]",
      "text/plain": [
       "<Figure size 432x288 with 1 Axes>"
      ]
     },
     "metadata": {},
     "output_type": "display_data"
    },
    {
     "data": {
      "image/png": "[encoded data removed]",
      "text/plain": [
       "<Figure size 432x288 with 1 Axes>"
      ]
     },
     "metadata": {},
     "output_type": "display_data"
    },
    {
     "data": {
      "image/png": "[encoded data removed]",
      "text/plain": [
       "<Figure size 432x288 with 1 Axes>"
      ]
     },
     "metadata": {},
     "output_type": "display_data"
    }
   ],
   "source": [
    "for i in range(10):\n",
    "    plt.imshow(centers[i,].reshape(28, 28), cmap=matplotlib.cm.binary)\n",
    "    plt.show()"
   ]
  },
  {
   "cell_type": "markdown",
   "metadata": {},
   "source": [
    "Yay! The averaging worked! Now we can test it on a single image."
   ]
  },
  {
   "cell_type": "code",
   "execution_count": 117,
   "metadata": {},
   "outputs": [
    {
     "name": "stdout",
     "output_type": "stream",
     "text": [
      "Current test number: 0.0\n"
     ]
    },
    {
     "data": {
      "image/png": "[encoded data removed]",
      "text/plain": [
       "<Figure size 432x288 with 1 Axes>"
      ]
     },
     "metadata": {},
     "output_type": "display_data"
    }
   ],
   "source": [
    "print('Current test number: {}'.format(ytest[0]))\n",
    "xinit = Xtest[1]\n",
    "plt.imshow(Xtest[1].reshape(28,28), cmap=matplotlib.cm.binary)\n",
    "plt.show()\n",
    "xhist = settle_once(xinit, centers, gamma)"
   ]
  },
  {
   "cell_type": "markdown",
   "metadata": {},
   "source": [
    "Let's see what it was closest to:"
   ]
  },
  {
   "cell_type": "code",
   "execution_count": 118,
   "metadata": {},
   "outputs": [
    {
     "name": "stdout",
     "output_type": "stream",
     "text": [
      "[[1641.64530641]\n",
      " [2546.31335595]\n",
      " [2202.54344378]\n",
      " [2098.50909139]\n",
      " [2387.36741377]\n",
      " [2044.9095538 ]\n",
      " [2366.96301395]\n",
      " [2489.01621431]\n",
      " [2222.20623671]\n",
      " [2496.43415055]]\n",
      "0\n"
     ]
    }
   ],
   "source": [
    "from scipy.spatial.distance import cdist\n",
    "dists = cdist(centers, xhist[-1,].reshape(1, ndim), 'euclidean')\n",
    "print(dists)  # in order from 0 to 9\n",
    "print(int(np.where(dists.flatten() == np.min(dists))[0]))"
   ]
  },
  {
   "cell_type": "markdown",
   "metadata": {},
   "source": [
    "Cool! Looks like it got closest to correct answer! Now I'll write a function to return the closest pattern to the final state for a pattern. This is a pretty rough way of determining classification accuracy, but I'll try it for now."
   ]
  },
  {
   "cell_type": "code",
   "execution_count": 119,
   "metadata": {},
   "outputs": [
    {
     "data": {
      "text/plain": [
       "0"
      ]
     },
     "execution_count": 119,
     "metadata": {},
     "output_type": "execute_result"
    }
   ],
   "source": [
    "def find_closest(xfinal, centers):\n",
    "    assert len(xfinal.shape) == 2, 'Final state must be 2D'\n",
    "    dists = cdist(centers, xfinal, 'euclidean')\n",
    "    return int(np.where(dists.flatten() == np.min(dists))[0])\n",
    "\n",
    "find_closest(xhist[-1,].reshape(1, ndim), centers)"
   ]
  },
  {
   "cell_type": "markdown",
   "metadata": {},
   "source": [
    "The big evaluation: Now I want to go through all of the test set and get the model's classification accuracy."
   ]
  },
  {
   "cell_type": "code",
   "execution_count": 132,
   "metadata": {},
   "outputs": [
    {
     "name": "stdout",
     "output_type": "stream",
     "text": [
      "Starting classification test...\n",
      "Trial:\n",
      "[0] [500] [1000] [1500] [2000] [2500] [3000] [3500] [4000] [4500] [5000] [5500] [6000] [6500] [7000] [7500] [8000] [8500] [9000] [9500] Assembling data...\n",
      "Done!\n"
     ]
    }
   ],
   "source": [
    "import pandas as pd\n",
    "\n",
    "outputs = []  # For storing the results\n",
    "print('Starting classification test...\\nTrial:')\n",
    "for i in range(ntest):\n",
    "    if i % 500 == 0:\n",
    "        print('[{}] '.format(i), end='')\n",
    "    currtarg = ytest[i]\n",
    "    currinit = Xtest[i]\n",
    "    xhist = settle_once(currinit, centers, gamma)\n",
    "    closest = find_closest(xhist[-1,].reshape(1, ndim), centers)\n",
    "    if closest == currtarg:\n",
    "        correct = 1\n",
    "    else:\n",
    "        correct = 0\n",
    "    outputs.append([currtarg, closest, correct])\n",
    "\n",
    "print('\\nAssembling data...')\n",
    "data = pd.concat([pd.DataFrame([i], columns=('Target', 'Nearest', 'Correct')) for i in outputs])\n",
    "print('Done!')"
   ]
  },
  {
   "cell_type": "markdown",
   "metadata": {},
   "source": [
    "Looking at the data:"
   ]
  },
  {
   "cell_type": "code",
   "execution_count": 133,
   "metadata": {},
   "outputs": [
    {
     "data": {
      "text/plain": [
       "mean    0.820300\n",
       "std     0.383957\n",
       "Name: Correct, dtype: float64"
      ]
     },
     "execution_count": 133,
     "metadata": {},
     "output_type": "execute_result"
    }
   ],
   "source": [
    "data['Correct'].agg(['mean', 'std'])"
   ]
  },
  {
   "cell_type": "markdown",
   "metadata": {},
   "source": [
    "So, it looks like it got 82% correct on the classification test! Not bad! Certainly not state-of-the-art, but not bad for a pretty quick implementation!\n",
    "\n",
    "Let's look at how it does by target:"
   ]
  },
  {
   "cell_type": "code",
   "execution_count": 134,
   "metadata": {},
   "outputs": [
    {
     "data": {
      "text/html": [
       "<div>\n",
       "<style scoped>\n",
       "    .dataframe tbody tr th:only-of-type {\n",
       "        vertical-align: middle;\n",
       "    }\n",
       "\n",
       "    .dataframe tbody tr th {\n",
       "        vertical-align: top;\n",
       "    }\n",
       "\n",
       "    .dataframe thead th {\n",
       "        text-align: right;\n",
       "    }\n",
       "</style>\n",
       "<table border=\"1\" class=\"dataframe\">\n",
       "  <thead>\n",
       "    <tr style=\"text-align: right;\">\n",
       "      <th></th>\n",
       "      <th>mean</th>\n",
       "      <th>std</th>\n",
       "    </tr>\n",
       "    <tr>\n",
       "      <th>Target</th>\n",
       "      <th></th>\n",
       "      <th></th>\n",
       "    </tr>\n",
       "  </thead>\n",
       "  <tbody>\n",
       "    <tr>\n",
       "      <th>0.0</th>\n",
       "      <td>0.895918</td>\n",
       "      <td>0.305522</td>\n",
       "    </tr>\n",
       "    <tr>\n",
       "      <th>1.0</th>\n",
       "      <td>0.962115</td>\n",
       "      <td>0.191003</td>\n",
       "    </tr>\n",
       "    <tr>\n",
       "      <th>2.0</th>\n",
       "      <td>0.756783</td>\n",
       "      <td>0.429233</td>\n",
       "    </tr>\n",
       "    <tr>\n",
       "      <th>3.0</th>\n",
       "      <td>0.805941</td>\n",
       "      <td>0.395671</td>\n",
       "    </tr>\n",
       "    <tr>\n",
       "      <th>4.0</th>\n",
       "      <td>0.825866</td>\n",
       "      <td>0.379418</td>\n",
       "    </tr>\n",
       "    <tr>\n",
       "      <th>5.0</th>\n",
       "      <td>0.686099</td>\n",
       "      <td>0.464337</td>\n",
       "    </tr>\n",
       "    <tr>\n",
       "      <th>6.0</th>\n",
       "      <td>0.863257</td>\n",
       "      <td>0.343756</td>\n",
       "    </tr>\n",
       "    <tr>\n",
       "      <th>7.0</th>\n",
       "      <td>0.832685</td>\n",
       "      <td>0.373439</td>\n",
       "    </tr>\n",
       "    <tr>\n",
       "      <th>8.0</th>\n",
       "      <td>0.737166</td>\n",
       "      <td>0.440399</td>\n",
       "    </tr>\n",
       "    <tr>\n",
       "      <th>9.0</th>\n",
       "      <td>0.806739</td>\n",
       "      <td>0.395051</td>\n",
       "    </tr>\n",
       "  </tbody>\n",
       "</table>\n",
       "</div>"
      ],
      "text/plain": [
       "            mean       std\n",
       "Target                    \n",
       "0.0     0.895918  0.305522\n",
       "1.0     0.962115  0.191003\n",
       "2.0     0.756783  0.429233\n",
       "3.0     0.805941  0.395671\n",
       "4.0     0.825866  0.379418\n",
       "5.0     0.686099  0.464337\n",
       "6.0     0.863257  0.343756\n",
       "7.0     0.832685  0.373439\n",
       "8.0     0.737166  0.440399\n",
       "9.0     0.806739  0.395051"
      ]
     },
     "execution_count": 134,
     "metadata": {},
     "output_type": "execute_result"
    }
   ],
   "source": [
    "data.groupby('Target')['Correct'].agg(['mean', 'std'])"
   ]
  },
  {
   "cell_type": "markdown",
   "metadata": {},
   "source": [
    "Looks like the lowest performance was on 5s, which is not too surprising. In the averaged images above, 5s look pretty similar to a lot of things..."
   ]
  },
  {
   "cell_type": "markdown",
   "metadata": {},
   "source": [
    "# Summary\n",
    "\n",
    "Here, I used a pretty simple RBF-based classifier on the MNIST data set. Without tweaking the $\\gamma$ parameter at all, I was able to get 82% classification accuracy.\n",
    "\n",
    "Options for improvements include:\n",
    "1. Try to fit the $\\gamma$ parameter using crossvalidation or brute-force grid search.\n",
    "2. Try transforming the training and test data to make the classes more descriminable, before defining the attractors/centers $\\mathbf{c}_i$. (Ciocoiu (2009) does this in a couple of different ways and gets much better performance.)\n",
    "3. Add noise. This might help classification accuracy (or hurt it, depending on the noise magnitude). It would also open up a world of methods from stochastic differential equations, including possible new ways of fitting the model parameters based on the stationary distribution over states that we can solve for using the Fokker-Planck equation (e.g., Gardiner, 1985). This is almost certainly overkill, but stochastic is way more fun (and way scarier!) than noiseless...\n",
    "\n",
    "One comment on the method: Even a noiseless continuous-time dynamical systems model is probably overkill for this \"hello world\" of machine learning problems. This type of system was initially meant as a type of mathematically well-behaved neural network, and I've created an extended version to model human reading times in word-by-word sentence comprehension. But for this type of classification problem, no one really cares how long it takes to find a solution; as long as it's not too long, people are usually just want to know whether it was right or not. In any case, it was fun to transfer part of my dissertation research to a different realm!"
   ]
  },
  {
   "cell_type": "code",
   "execution_count": null,
   "metadata": {},
   "outputs": [],
   "source": []
  }
 ],
 "metadata": {
  "kernelspec": {
   "display_name": "Python [default]",
   "language": "python",
   "name": "python3"
  },
  "language_info": {
   "codemirror_mode": {
    "name": "ipython",
    "version": 3
   },
   "file_extension": ".py",
   "mimetype": "text/x-python",
   "name": "python",
   "nbconvert_exporter": "python",
   "pygments_lexer": "ipython3",
   "version": "3.5.5"
  }
 },
 "nbformat": 4,
 "nbformat_minor": 2
}
